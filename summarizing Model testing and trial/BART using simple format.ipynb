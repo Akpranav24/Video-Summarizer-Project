{
 "cells": [
  {
   "cell_type": "code",
   "execution_count": 1,
   "id": "bb1d71a7",
   "metadata": {},
   "outputs": [
    {
     "name": "stdout",
     "output_type": "stream",
     "text": [
      "Harry potter is a series of seven fantasy novels written by british author j k rowling.The novels chronicle the lives of a young wizard harry potter and his friends hermione granger and ron weasley all of whom are students at hogwarts school of witchcraft and wizardry.\n",
      "\n",
      "The world of harry potter explores numerous themes and includes many cultural meanings and references. Major themes in the series include prejudice corruption madness and death. The books have sold more than 600 million copies worldwide making them the bestselling book series in history and have been available in 85 languages.\n",
      "\n",
      "The harry potter franchise was estimated at 25 billion7 making it one of the highestgrossing media franchises of all time. The original seven books were adapted into an eightpart namesake film series in 2016. A trilogy of spinoff films premiering in november 2016.\n",
      "\n",
      "6 with fantastic beasts and where to find them among many other developments themed attractions collectively known as the wizarding world of harry potter have been built at several universal destinations  experiences amusement parks around the world.\n"
     ]
    }
   ],
   "source": [
    "from transformers import BartTokenizer, BartForConditionalGeneration\n",
    "import numpy as np\n",
    "import re\n",
    "\n",
    "\n",
    "# Initialize BART model and tokenizer\n",
    "model_name = 'facebook/bart-large-cnn'\n",
    "tokenizer = BartTokenizer.from_pretrained(model_name)\n",
    "model = BartForConditionalGeneration.from_pretrained(model_name)\n",
    "\n",
    "def preprocess_text(text):\n",
    "    text = re.sub(r'\\s+', ' ', text)  # Replace multiple spaces/newlines with a single space\n",
    "    text = re.sub(r'[^\\w\\s]', '', text)  # Remove punctuation\n",
    "    text = text.lower()  # Convert to lowercase\n",
    "    return text\n",
    "\n",
    "def summarize_text(text, max_length=1000, min_length=40):\n",
    "    inputs = tokenizer(text, return_tensors=\"pt\", max_length=1024, truncation=True)\n",
    "    summary_ids = model.generate(inputs['input_ids'], max_length=max_length, min_length=min_length, length_penalty=2.0, num_beams=4)\n",
    "    summary = tokenizer.decode(summary_ids[0], skip_special_tokens=True)\n",
    "    return summary\n",
    "\n",
    "def split_into_sections(text, section_length=1000, overlap=200):\n",
    "    text = preprocess_text(text)\n",
    "    sections = []\n",
    "    start = 0\n",
    "    while start < len(text):\n",
    "        end = start + section_length\n",
    "        sections.append(text[start:end])\n",
    "        start = end - overlap\n",
    "    return sections\n",
    "\n",
    "def summarize_sections(sections):\n",
    "    return [summarize_text(section) for section in sections]\n",
    "\n",
    "def combine_summaries(summaries):\n",
    "    # Generate a coherent final summary by concatenating the section summaries\n",
    "    combined_summary = \"\\n\\n\".join(summaries)\n",
    "    return combined_summary\n",
    "\n",
    "def main(text):\n",
    "    sections = split_into_sections(text)\n",
    "    summaries = summarize_sections(sections)\n",
    "    final_summary = combine_summaries(summaries)\n",
    "    return final_summary\n",
    "\n",
    "text = \"\"\"\n",
    "Harry Potter is a series of seven fantasy novels written by British author J. K. Rowling. The novels chronicle the lives of a young wizard, Harry Potter, and his friends, Hermione Granger and Ron Weasley, all of whom are students at Hogwarts School of Witchcraft and Wizardry. The main story arc concerns Harry's conflict with Lord Voldemort, a dark wizard who intends to become immortal, overthrow the wizard governing body known as the Ministry of Magic, and subjugate all wizards and Muggles (non-magical people).\n",
    "\n",
    "The series was originally published in English by Bloomsbury in the United Kingdom and Scholastic Press in the United States. A series of many genres, including fantasy, drama, coming-of-age fiction, and the British school story (which includes elements of mystery, thriller, adventure, horror, and romance), the world of Harry Potter explores numerous themes and includes many cultural meanings and references.[1] Major themes in the series include prejudice, corruption, madness, and death.[2][3]\n",
    "\n",
    "Since the release of the first novel, Harry Potter and the Philosopher's Stone, on 26 June 1997, the books have found immense popularity, positive reviews, and commercial success worldwide. They have attracted a wide adult audience as well as younger readers and are widely considered cornerstones of modern literature.[4][5] As of February 2023, the books have sold more than 600 million copies worldwide, making them the best-selling book series in history, and have been available in 85 languages.[6] The last four books consecutively set records as the fastest-selling books in history, with the final instalment selling roughly 2.7 million copies in the United Kingdom and 8.3 million copies in the United States within twenty-four hours of its release.\n",
    "\n",
    "Warner Bros. Pictures adapted the original seven books into an eight-part namesake film series. In 2016, the total value of the Harry Potter franchise was estimated at $25 billion,[7] making it one of the highest-grossing media franchises of all time. Harry Potter and the Cursed Child is a play based on a story co-written by Rowling.\n",
    "\n",
    "The success of the books and films has allowed the Harry Potter franchise to expand with numerous derivative works, a travelling exhibition that premiered in Chicago in 2009, a studio tour in London that opened in 2012, a digital platform on which J. K. Rowling updates the series with new information and insight, and a trilogy of spin-off films premiering in November 2016 with Fantastic Beasts and Where to Find Them, among many other developments. Themed attractions, collectively known as The Wizarding World of Harry Potter, have been built at several Universal Destinations & Experiences amusement parks around the world.\n",
    "\"\"\"\n",
    "\n",
    "formatted_summary = main(text)\n",
    "print(formatted_summary)\n"
   ]
  },
  {
   "cell_type": "code",
   "execution_count": null,
   "id": "c6bdd634",
   "metadata": {},
   "outputs": [],
   "source": []
  }
 ],
 "metadata": {
  "kernelspec": {
   "display_name": "Python 3 (ipykernel)",
   "language": "python",
   "name": "python3"
  },
  "language_info": {
   "codemirror_mode": {
    "name": "ipython",
    "version": 3
   },
   "file_extension": ".py",
   "mimetype": "text/x-python",
   "name": "python",
   "nbconvert_exporter": "python",
   "pygments_lexer": "ipython3",
   "version": "3.11.7"
  }
 },
 "nbformat": 4,
 "nbformat_minor": 5
}
