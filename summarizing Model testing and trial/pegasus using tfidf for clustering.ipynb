{
 "cells": [
  {
   "cell_type": "code",
   "execution_count": 1,
   "id": "d3126c76",
   "metadata": {},
   "outputs": [],
   "source": [
    "from transformers import PegasusTokenizer, PegasusForConditionalGeneration\n",
    "import numpy as np\n",
    "import re\n",
    "from sklearn.feature_extraction.text import TfidfVectorizer\n",
    "from sklearn.metrics.pairwise import cosine_similarity"
   ]
  },
  {
   "cell_type": "code",
   "execution_count": 2,
   "id": "bd568092",
   "metadata": {},
   "outputs": [
    {
     "name": "stderr",
     "output_type": "stream",
     "text": [
      "Some weights of PegasusForConditionalGeneration were not initialized from the model checkpoint at google/pegasus-xsum and are newly initialized: ['model.decoder.embed_positions.weight', 'model.encoder.embed_positions.weight']\n",
      "You should probably TRAIN this model on a down-stream task to be able to use it for predictions and inference.\n"
     ]
    }
   ],
   "source": [
    "# Initialize PEGASUS model and tokenizer\n",
    "model_name = 'google/pegasus-xsum'\n",
    "tokenizer = PegasusTokenizer.from_pretrained(model_name)\n",
    "model = PegasusForConditionalGeneration.from_pretrained(model_name)"
   ]
  },
  {
   "cell_type": "code",
   "execution_count": 5,
   "id": "2bfb05c0",
   "metadata": {},
   "outputs": [],
   "source": [
    "def preprocess_text(text):\n",
    "    text = re.sub(r'\\s+', ' ', text)  # Replace multiple spaces/newlines with a single space\n",
    "    text = re.sub(r'[^\\w\\s]', '', text)  # Remove punctuation\n",
    "    text = text.lower()  # Convert to lowercase\n",
    "    return text\n",
    "\n",
    "def summarize_text(text, max_length=1000, min_length=40):\n",
    "    inputs = tokenizer(text, return_tensors=\"pt\", max_length=1024, truncation=True)\n",
    "    summary_ids = model.generate(inputs['input_ids'], max_length=max_length, min_length=min_length, length_penalty=2.0, num_beams=4)\n",
    "    summary = tokenizer.decode(summary_ids[0], skip_special_tokens=True)\n",
    "    return summary\n",
    "\n",
    "def split_into_sections(text, section_length=1000, overlap=200):\n",
    "    text = preprocess_text(text)\n",
    "    sections = []\n",
    "    start = 0\n",
    "    while start < len(text):\n",
    "        end = start + section_length\n",
    "        sections.append(text[start:end])\n",
    "        start = end - overlap\n",
    "    return sections\n",
    "\n",
    "def summarize_sections(sections):\n",
    "    return [summarize_text(section) for section in sections]\n",
    "\n",
    "def combine_summaries(summaries):\n",
    "    vectorizer = TfidfVectorizer()\n",
    "    tfidf_matrix = vectorizer.fit_transform(summaries)\n",
    "    similarity_matrix = cosine_similarity(tfidf_matrix)\n",
    "    sorted_indices = np.argsort(similarity_matrix.sum(axis=1))\n",
    "    sorted_summaries = [summaries[i] for i in sorted_indices]\n",
    "    return \"\\n\\n\".join(sorted_summaries)\n",
    "\n",
    "def main(text):\n",
    "    sections = split_into_sections(text)\n",
    "    summaries = summarize_sections(sections)\n",
    "    final_summary = combine_summaries(summaries)\n",
    "    return final_summary"
   ]
  },
  {
   "cell_type": "code",
   "execution_count": 6,
   "id": "9fda93ff",
   "metadata": {},
   "outputs": [
    {
     "name": "stdout",
     "output_type": "stream",
     "text": [
      "A look at some of the world's most popular theme park attractions and how they compare to the original Harry Potter theme park in JK Rowling's Wizarding World of Harry Potter., here's a look at some of the world's most popular theme park attractions and how they compare to the original Harry Potter theme park in JK Rowling's Wizarding World of Harry Potter., here's a look at some of the world's most popular theme park attractions and how they compare to the original Harry Potter theme park in JK Rowling's Wizarding World of Harry Potter., here's a look at some of the world's most popular theme park attractions and how they compare to the original Harry Potter theme park in JK Rowling's Wizarding World of Harry Potter., here's a look at some of the world's most popular theme park attractions and how they compare to the original Harry Potter theme park in JK Rowling's Wizarding World of Harry Potter., here's a look at some of the world's most popular theme park attractions and how they compare to the original Harry Potter theme park in JK Rowling's Wizarding World of Harry Potter., here's a look at some of the world's most popular theme park attractions and how they compare to the original Harry Potter theme park in JK Rowling's Wizarding World of Harry Potter.\n",
      "\n",
      "Harry Potter and the Philosopher's Stone is the seventh and final book in the best-selling series by JK Rowling which has sold more than 600 million copies worldwide since it was first published in 1997.\n",
      "\n",
      "Harry potter is a fantasy novel series which was first published in the united kingdom in 2001 and has been adapted into a series of films which have sold more than 400 million copies around the world since the release of the first film in the series in 2007.\n",
      "\n",
      "Harry Potter and the Philosopher's Stone was the first book in the harry potter series to be published in the united kingdom in 2001 and went on to become one of the most popular books of all time with more than 400 million copies sold in the world of harry potter and the Philosopher's Stone being translated into more than 40 languages.\n"
     ]
    }
   ],
   "source": [
    "text = \"\"\"\n",
    "Harry Potter is a series of seven fantasy novels written by British author J. K. Rowling. The novels chronicle the lives of a young wizard, Harry Potter, and his friends, Hermione Granger and Ron Weasley, all of whom are students at Hogwarts School of Witchcraft and Wizardry. The main story arc concerns Harry's conflict with Lord Voldemort, a dark wizard who intends to become immortal, overthrow the wizard governing body known as the Ministry of Magic, and subjugate all wizards and Muggles (non-magical people).\n",
    "\n",
    "The series was originally published in English by Bloomsbury in the United Kingdom and Scholastic Press in the United States. A series of many genres, including fantasy, drama, coming-of-age fiction, and the British school story (which includes elements of mystery, thriller, adventure, horror, and romance), the world of Harry Potter explores numerous themes and includes many cultural meanings and references.[1] Major themes in the series include prejudice, corruption, madness, and death.[2][3]\n",
    "\n",
    "Since the release of the first novel, Harry Potter and the Philosopher's Stone, on 26 June 1997, the books have found immense popularity, positive reviews, and commercial success worldwide. They have attracted a wide adult audience as well as younger readers and are widely considered cornerstones of modern literature.[4][5] As of February 2023, the books have sold more than 600 million copies worldwide, making them the best-selling book series in history, and have been available in 85 languages.[6] The last four books consecutively set records as the fastest-selling books in history, with the final instalment selling roughly 2.7 million copies in the United Kingdom and 8.3 million copies in the United States within twenty-four hours of its release.\n",
    "\n",
    "Warner Bros. Pictures adapted the original seven books into an eight-part namesake film series. In 2016, the total value of the Harry Potter franchise was estimated at $25 billion,[7] making it one of the highest-grossing media franchises of all time. Harry Potter and the Cursed Child is a play based on a story co-written by Rowling.\n",
    "\n",
    "The success of the books and films has allowed the Harry Potter franchise to expand with numerous derivative works, a travelling exhibition that premiered in Chicago in 2009, a studio tour in London that opened in 2012, a digital platform on which J. K. Rowling updates the series with new information and insight, and a trilogy of spin-off films premiering in November 2016 with Fantastic Beasts and Where to Find Them, among many other developments. Themed attractions, collectively known as The Wizarding World of Harry Potter, have been built at several Universal Destinations & Experiences amusement parks around the world.\n",
    "\"\"\"\n",
    "\n",
    "formatted_summary = main(text)\n",
    "print(formatted_summary)"
   ]
  },
  {
   "cell_type": "code",
   "execution_count": null,
   "id": "929b7b76",
   "metadata": {},
   "outputs": [],
   "source": []
  }
 ],
 "metadata": {
  "kernelspec": {
   "display_name": "Python 3 (ipykernel)",
   "language": "python",
   "name": "python3"
  },
  "language_info": {
   "codemirror_mode": {
    "name": "ipython",
    "version": 3
   },
   "file_extension": ".py",
   "mimetype": "text/x-python",
   "name": "python",
   "nbconvert_exporter": "python",
   "pygments_lexer": "ipython3",
   "version": "3.11.7"
  }
 },
 "nbformat": 4,
 "nbformat_minor": 5
}
